{
 "cells": [
  {
   "cell_type": "code",
   "execution_count": 82,
   "id": "d336f676",
   "metadata": {},
   "outputs": [
    {
     "name": "stdout",
     "output_type": "stream",
     "text": [
      "Total problematic slugs: 0\n"
     ]
    }
   ],
   "source": [
    "import json\n",
    "import requests\n",
    "import time\n",
    "import csv\n",
    "\n",
    "API_URL = 'http://api.llama.fi/'\n",
    "\n",
    "headers = {\n",
    "    'Accept': '*/*',\n",
    "    'User-Agent': \"\"\"Mozilla/5.0 (Windows NT 10.0; Win64; x64) AppleWebKit/537.36 (KHTML, like Gecko) Chrome/114.0.0.0 Safari/537.36\"\"\"\n",
    "}\n",
    "\n",
    "def defillama(endpoint, params={}, json={}):\n",
    "    resp = requests.get(\n",
    "        API_URL + endpoint,\n",
    "        headers=headers\n",
    "    )\n",
    "    return resp.json()\n",
    "\n",
    "\n",
    "data_protocols = json.loads(defillama(f'protocol))\n",
    "\n",
    "data_api = {}\n",
    "problematic_slugs = []\n",
    "for item in data_protocols:\n",
    "    slug = item['slug']\n",
    "    \n",
    "    try:\n",
    "        protocol_data = defillama(f'protocol/{slug}')\n",
    "        time.sleep(2) \n",
    "        data_api[slug] = protocol_data\n",
    "    \n",
    "    except Exception as e:\n",
    "        print(f\"Error scrapping data for slug: {slug}. Error: {e}\")\n",
    "        problematic_slugs.append(slug)\n",
    "    \n",
    "print(f\"Total problematic slugs: {len(problematic_slugs)}\")\n",
    "                                      \n",
    "with open('protocol-slug_data.json', 'w') as f:\n",
    "    json.dump(data_api, f, indent=4)\n",
    "                                      \n",
    "with open ('defillama_protocols.json', 'w') as g:\n",
    "    json.dump(data_protocols, g, indent=4)\n",
    "\n"
   ]
  },
  {
   "cell_type": "code",
   "execution_count": 3,
   "id": "5dcdcf45",
   "metadata": {},
   "outputs": [
    {
     "name": "stdout",
     "output_type": "stream",
     "text": [
      "Total problematic slugs: 0\n",
      "Data saved to output.csv!\n"
     ]
    }
   ],
   "source": [
    "import json\n",
    "import csv\n",
    "from datetime import datetime\n",
    "\n",
    "def timestamp_to_date(timestamp):\n",
    "    return datetime.utcfromtimestamp(timestamp).strftime('%Y-%m-%d')\n",
    "\n",
    "with open('protocol-slug_data.json', 'r') as g:\n",
    "    data_date = json.load(g)\n",
    "with open('defillama_protocols.json', 'r') as f:\n",
    "    data_protocols = json.load(f)\n",
    "    \n",
    "results = []\n",
    "problematic_slugs = []\n",
    "for item in data_protocols:\n",
    "    protocol_tvl = item['tvl']\n",
    "    \n",
    "    if protocol_tvl >= 1000000:\n",
    "        protocol_name = item['name']\n",
    "        protocol_address = item['address']\n",
    "        protocol_slug = item['slug']\n",
    "        protocol_chains = '|'.join(item['chains'])\n",
    "\n",
    "        all_min_dates = []\n",
    "        try:\n",
    "            for network, tvls in data_date[protocol_slug][\"chainTvls\"].items():\n",
    "                tvl_list = tvls[\"tvl\"]\n",
    "                min_date = min(entry[\"date\"] for entry in tvl_list)\n",
    "                all_min_dates.append(min_date)\n",
    "            min_date = min(all_min_dates) if all_min_dates else None\n",
    "            min_date = timestamp_to_date(min_date)\n",
    "\n",
    "            results.append([protocol_name, protocol_address, protocol_chains, protocol_tvl, min_date])\n",
    "\n",
    "        except Exception as e:\n",
    "            print(f\"Error scrapping data for slug: {protocol_slug}. Error: {e}\")\n",
    "            problematic_slugs.append(protocol_slug)\n",
    "    \n",
    "print(f\"Total problematic slugs: {len(problematic_slugs)}\")\n",
    "    \n",
    "\n",
    "with open('output.csv', 'w', newline='') as csvfile:\n",
    "    writer = csv.writer(csvfile)\n",
    "    writer.writerow(['Name', 'Address', 'Chains', 'TVL', 'Earliest Date'])\n",
    "    writer.writerows(results)\n",
    "\n",
    "print(\"Data saved to output.csv!\")\n"
   ]
  },
  {
   "cell_type": "code",
   "execution_count": null,
   "id": "2a29fb06",
   "metadata": {},
   "outputs": [],
   "source": []
  }
 ],
 "metadata": {
  "kernelspec": {
   "display_name": "Python 3 (ipykernel)",
   "language": "python",
   "name": "python3"
  },
  "language_info": {
   "codemirror_mode": {
    "name": "ipython",
    "version": 3
   },
   "file_extension": ".py",
   "mimetype": "text/x-python",
   "name": "python",
   "nbconvert_exporter": "python",
   "pygments_lexer": "ipython3",
   "version": "3.11.1"
  }
 },
 "nbformat": 4,
 "nbformat_minor": 5
}
